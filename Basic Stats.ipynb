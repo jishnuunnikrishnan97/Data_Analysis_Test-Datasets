{
 "cells": [
  {
   "cell_type": "markdown",
   "id": "779a6488",
   "metadata": {},
   "source": [
    "# Mean"
   ]
  },
  {
   "cell_type": "code",
   "execution_count": 11,
   "id": "865d16cd",
   "metadata": {},
   "outputs": [],
   "source": [
    "import numpy as np"
   ]
  },
  {
   "cell_type": "code",
   "execution_count": 12,
   "id": "7d17996d",
   "metadata": {},
   "outputs": [],
   "source": [
    "myList = [1,2,3,4,5,6,7,8,9,3,10,6,6,11,9,12,9,9,13,14,15,16,17,18,19,20]"
   ]
  },
  {
   "cell_type": "code",
   "execution_count": 13,
   "id": "f553edc3",
   "metadata": {},
   "outputs": [],
   "source": [
    "def getMean(myData):\n",
    "    return sum(myData)/(len(myData)*1.0)"
   ]
  },
  {
   "cell_type": "code",
   "execution_count": 14,
   "id": "e284e443",
   "metadata": {},
   "outputs": [
    {
     "data": {
      "text/plain": [
       "9.692307692307692"
      ]
     },
     "execution_count": 14,
     "metadata": {},
     "output_type": "execute_result"
    }
   ],
   "source": [
    "getMean(myList)"
   ]
  },
  {
   "cell_type": "code",
   "execution_count": 15,
   "id": "1a2c7792",
   "metadata": {},
   "outputs": [
    {
     "data": {
      "text/plain": [
       "9.692307692307692"
      ]
     },
     "execution_count": 15,
     "metadata": {},
     "output_type": "execute_result"
    }
   ],
   "source": [
    "npArray = np.asarray(myList)\n",
    "np.mean(npArray)"
   ]
  },
  {
   "cell_type": "markdown",
   "id": "74898ea4",
   "metadata": {},
   "source": [
    "# How Extreme Values affect mean"
   ]
  },
  {
   "cell_type": "code",
   "execution_count": 16,
   "id": "25aabfa8",
   "metadata": {},
   "outputs": [],
   "source": [
    "myList.append(100)"
   ]
  },
  {
   "cell_type": "code",
   "execution_count": 17,
   "id": "f2a34949",
   "metadata": {},
   "outputs": [
    {
     "data": {
      "text/plain": [
       "13.037037037037036"
      ]
     },
     "execution_count": 17,
     "metadata": {},
     "output_type": "execute_result"
    }
   ],
   "source": [
    "getMean(myList)"
   ]
  },
  {
   "cell_type": "markdown",
   "id": "c25859b2",
   "metadata": {},
   "source": [
    "# doesnt give a centralized distribution"
   ]
  },
  {
   "cell_type": "markdown",
   "id": "a30611c9",
   "metadata": {},
   "source": [
    "# Median"
   ]
  },
  {
   "cell_type": "code",
   "execution_count": 8,
   "id": "2eefd594",
   "metadata": {},
   "outputs": [
    {
     "data": {
      "text/plain": [
       "11.0"
      ]
     },
     "execution_count": 8,
     "metadata": {},
     "output_type": "execute_result"
    }
   ],
   "source": [
    "np.median(myList)"
   ]
  },
  {
   "cell_type": "code",
   "execution_count": 9,
   "id": "8306e5b7",
   "metadata": {},
   "outputs": [
    {
     "data": {
      "text/plain": [
       "10.5"
      ]
     },
     "execution_count": 9,
     "metadata": {},
     "output_type": "execute_result"
    }
   ],
   "source": [
    "np.median(npArray)"
   ]
  },
  {
   "cell_type": "markdown",
   "id": "fb78c54b",
   "metadata": {},
   "source": [
    " # Mode"
   ]
  },
  {
   "cell_type": "code",
   "execution_count": 18,
   "id": "3c421f9e",
   "metadata": {},
   "outputs": [],
   "source": [
    "from scipy.stats import mode"
   ]
  },
  {
   "cell_type": "code",
   "execution_count": 21,
   "id": "501db504",
   "metadata": {},
   "outputs": [
    {
     "data": {
      "text/plain": [
       "ModeResult(mode=array([9]), count=array([4]))"
      ]
     },
     "execution_count": 21,
     "metadata": {},
     "output_type": "execute_result"
    }
   ],
   "source": [
    "mode(myList)"
   ]
  },
  {
   "cell_type": "code",
   "execution_count": 24,
   "id": "a327ec4b",
   "metadata": {},
   "outputs": [],
   "source": [
    "myList1 = np.asarray([1,2,2,2,4,5,6,6,6,9,10,10,10,11,14,14,15,18,19,20])"
   ]
  },
  {
   "cell_type": "markdown",
   "id": "c3fb25c2",
   "metadata": {},
   "source": [
    "# Variance"
   ]
  },
  {
   "cell_type": "code",
   "execution_count": 25,
   "id": "108ab3d2",
   "metadata": {},
   "outputs": [
    {
     "data": {
      "text/plain": [
       "33.66"
      ]
     },
     "execution_count": 25,
     "metadata": {},
     "output_type": "execute_result"
    }
   ],
   "source": [
    "np.var(myList1)"
   ]
  },
  {
   "cell_type": "markdown",
   "id": "c8acd9f1",
   "metadata": {},
   "source": [
    "# Standard Deviation"
   ]
  },
  {
   "cell_type": "code",
   "execution_count": 26,
   "id": "822adec9",
   "metadata": {},
   "outputs": [
    {
     "data": {
      "text/plain": [
       "5.801723881744114"
      ]
     },
     "execution_count": 26,
     "metadata": {},
     "output_type": "execute_result"
    }
   ],
   "source": [
    "np.std(myList1)"
   ]
  },
  {
   "cell_type": "code",
   "execution_count": 27,
   "id": "115c7f43",
   "metadata": {},
   "outputs": [
    {
     "data": {
      "text/plain": [
       "9.2"
      ]
     },
     "execution_count": 27,
     "metadata": {},
     "output_type": "execute_result"
    }
   ],
   "source": [
    "np.mean(myList1)"
   ]
  },
  {
   "cell_type": "code",
   "execution_count": 28,
   "id": "9e9fb25b",
   "metadata": {},
   "outputs": [],
   "source": [
    "lower_range = np.mean(myList1) - np.std(myList1)"
   ]
  },
  {
   "cell_type": "code",
   "execution_count": 32,
   "id": "9cc365d3",
   "metadata": {},
   "outputs": [],
   "source": [
    "higher_range = np.mean(myList1) + np.std(myList1)"
   ]
  },
  {
   "cell_type": "code",
   "execution_count": 33,
   "id": "ff984ee8",
   "metadata": {},
   "outputs": [
    {
     "data": {
      "text/plain": [
       "3.398276118255885"
      ]
     },
     "execution_count": 33,
     "metadata": {},
     "output_type": "execute_result"
    }
   ],
   "source": [
    "lower_range"
   ]
  },
  {
   "cell_type": "code",
   "execution_count": 34,
   "id": "c94c7f2c",
   "metadata": {},
   "outputs": [
    {
     "data": {
      "text/plain": [
       "15.001723881744113"
      ]
     },
     "execution_count": 34,
     "metadata": {},
     "output_type": "execute_result"
    }
   ],
   "source": [
    "higher_range"
   ]
  },
  {
   "cell_type": "markdown",
   "id": "a27c238c",
   "metadata": {},
   "source": [
    "# Percentile "
   ]
  },
  {
   "cell_type": "code",
   "execution_count": 35,
   "id": "3f34088a",
   "metadata": {},
   "outputs": [
    {
     "data": {
      "text/plain": [
       "2.0"
      ]
     },
     "execution_count": 35,
     "metadata": {},
     "output_type": "execute_result"
    }
   ],
   "source": [
    "np.percentile(myList1, 10)"
   ]
  },
  {
   "cell_type": "code",
   "execution_count": 36,
   "id": "94559665",
   "metadata": {},
   "outputs": [
    {
     "data": {
      "text/plain": [
       "10.35"
      ]
     },
     "execution_count": 36,
     "metadata": {},
     "output_type": "execute_result"
    }
   ],
   "source": [
    "np.percentile(myList1, 65)"
   ]
  },
  {
   "cell_type": "markdown",
   "id": "e7d27c13",
   "metadata": {},
   "source": [
    "# Quartiles"
   ]
  },
  {
   "cell_type": "code",
   "execution_count": 40,
   "id": "4c994570",
   "metadata": {},
   "outputs": [],
   "source": [
    "Q1 = np.percentile(myList1, 25)\n",
    "Q2 = np.percentile(myList1, 50)\n",
    "Q3 = np.percentile(myList1, 75)\n",
    "IQR = Q3-Q1"
   ]
  },
  {
   "cell_type": "code",
   "execution_count": 41,
   "id": "3d9c320c",
   "metadata": {},
   "outputs": [
    {
     "name": "stdout",
     "output_type": "stream",
     "text": [
      "4.75\n",
      "9.5 9.5\n",
      "14.0\n",
      "9.25\n"
     ]
    }
   ],
   "source": [
    "print(Q1)\n",
    "print(Q2, np.median(myList1))\n",
    "print(Q3)\n",
    "print(IQR)"
   ]
  }
 ],
 "metadata": {
  "kernelspec": {
   "display_name": "Python 3 (ipykernel)",
   "language": "python",
   "name": "python3"
  },
  "language_info": {
   "codemirror_mode": {
    "name": "ipython",
    "version": 3
   },
   "file_extension": ".py",
   "mimetype": "text/x-python",
   "name": "python",
   "nbconvert_exporter": "python",
   "pygments_lexer": "ipython3",
   "version": "3.9.7"
  }
 },
 "nbformat": 4,
 "nbformat_minor": 5
}
